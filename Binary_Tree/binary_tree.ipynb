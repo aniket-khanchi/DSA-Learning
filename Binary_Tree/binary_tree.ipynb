{
 "cells": [
  {
   "cell_type": "markdown",
   "metadata": {},
   "source": [
    " <h1>Binary Trees</h1>"
   ]
  },
  {
   "cell_type": "markdown",
   "metadata": {},
   "source": [
    "A binary tree is a tree data structure in which each node has at most two children, which are referred to as the left child and the right child."
   ]
  },
  {
   "cell_type": "markdown",
   "metadata": {},
   "source": [
    "Depth of a Node# <br> the length of the path from a node, n, to the root node. The depth of the root node is 0."
   ]
  },
  {
   "cell_type": "markdown",
   "metadata": {},
   "source": [
    "Height of a Tree# <br>\n",
    "The length of the path from n to its deepest descendant. The height of the tree itself is the height of the root node, and the height of leaf nodes is always 0."
   ]
  },
  {
   "cell_type": "markdown",
   "metadata": {},
   "source": [
    "Types of Binary Trees#<br>\n",
    "Complete Binary Tree#<br>\n",
    "In a complete binary tree, every level except possibly the last, is completely filled and all nodes in the last level are as far left as possible."
   ]
  },
  {
   "cell_type": "markdown",
   "metadata": {},
   "source": [
    "Full Binary Tree#<br>\n",
    "A full binary tree (sometimes referred to as a proper or plane binary tree) is a tree in which every node has either 0 or 2 children."
   ]
  },
  {
   "cell_type": "markdown",
   "metadata": {},
   "source": [
    "Implementation#<br>\n",
    "To implement a binary tree in Python, we will first implement the Node class."
   ]
  },
  {
   "cell_type": "code",
   "execution_count": 1,
   "metadata": {},
   "outputs": [],
   "source": [
    "class Node(object):\n",
    "  def __init__(self, value):\n",
    "    self.value = value\n",
    "    self.left = None\n",
    "    self.right = None"
   ]
  },
  {
   "cell_type": "markdown",
   "metadata": {},
   "source": [
    "BinaryTree class"
   ]
  },
  {
   "cell_type": "code",
   "execution_count": 11,
   "metadata": {},
   "outputs": [],
   "source": [
    "class BinaryTree(object):\n",
    "  def __init__(self, root):\n",
    "    self.root = Node(root)\n",
    "\n",
    "tree = BinaryTree(1)\n",
    "tree.root.left = Node(2)\n",
    "tree.root.right = Node(3)\n",
    "tree.root.left.left = Node(4)\n",
    "tree.root.left.right = Node(5)\n",
    "tree.root.right.left = Node(6)\n",
    "tree.root.right.right = Node(7)\n",
    "\n",
    "\n",
    "#               1\n",
    "#           /       \\  \n",
    "#          2          3  \n",
    "#         /  \\      /   \\\n",
    "#        4    5     6   7 "
   ]
  },
  {
   "cell_type": "markdown",
   "metadata": {},
   "source": [
    "## Traversal Algorithms\n",
    "Tree Traversal is the process of visiting (checking or updating) each node in a tree data structure, exactly once.<br>\n",
    "Unlike linked lists or one-dimensional arrays that are canonically traversed in linear order, <br>\n",
    "trees may be traversed in multiple ways. They may be traversed in depth-first or breadth-first order.\n",
    "\n",
    "There are three common ways to traverse a tree in depth-first order:\n",
    "\n",
    "1. In-order\n",
    "2. Pre-order\n",
    "3. Post-order\n",
    "\n",
    "Let’s begin with the Pre-order Traversal."
   ]
  },
  {
   "cell_type": "markdown",
   "metadata": {},
   "source": [
    "# In-order Traversal#\n",
    "Here is the algorithm for an in-order traversal:\n",
    "\n",
    "1. Check if the current node is empty/null.\n",
    "2. Traverse the left subtree by recursively calling the in-order method.\n",
    "3. Display the data part of the root (or current node).\n",
    "4. Traverse the right subtree by recursively calling the in-order method."
   ]
  },
  {
   "cell_type": "code",
   "execution_count": 20,
   "metadata": {},
   "outputs": [
    {
     "name": "stdout",
     "output_type": "stream",
     "text": [
      "4-2-5-1-6-3-7-\n"
     ]
    }
   ],
   "source": [
    "class BinaryTree(object):\n",
    "  def __init__(self, root):\n",
    "    self.root = Node(root)\n",
    "\n",
    "  def inorder_print(self, start, traversal):\n",
    "    \"\"\" left -> root -> right \"\"\"\n",
    "    if start:\n",
    "        traversal = self.inorder_print(start.left,traversal)\n",
    "        traversal += (str(start.value)+\"-\")\n",
    "        traversal = self.inorder_print(start.right, traversal)\n",
    "    return traversal\n",
    "\n",
    "tree = BinaryTree(1)\n",
    "tree.root.left = Node(2)\n",
    "tree.root.right = Node(3)\n",
    "tree.root.left.left = Node(4)\n",
    "tree.root.left.right = Node(5)\n",
    "tree.root.right.left = Node(6)\n",
    "tree.root.right.right = Node(7)\n",
    "print(tree.inorder_print(tree.root, \"\"))\n",
    "\n",
    "\n",
    "#               1\n",
    "#           /       \\  \n",
    "#          2          3  \n",
    "#         /  \\      /   \\\n",
    "#        4    5     6   7 \n",
    "  "
   ]
  },
  {
   "cell_type": "markdown",
   "metadata": {},
   "source": [
    "# Pre-order Traversal#\n",
    "Here is the algorithm for a pre-order traversal:\n",
    "\n",
    "1. Check if the current node is empty/null.\n",
    "2. Display the data part of the root (or current node).\n",
    "3. Traverse the left subtree by recursively calling the pre-order method.\n",
    "4. Traverse the right subtree by recursively calling the pre-order method."
   ]
  },
  {
   "cell_type": "code",
   "execution_count": 19,
   "metadata": {},
   "outputs": [
    {
     "name": "stdout",
     "output_type": "stream",
     "text": [
      "1-2-4-5-3-6-7-\n"
     ]
    }
   ],
   "source": [
    "class BinaryTree(object):\n",
    "  def __init__(self, root):\n",
    "    self.root = Node(root)\n",
    "\n",
    "  def preorder_print(self, start, traversal):\n",
    "    \"\"\"Root->Left->Right\"\"\"\n",
    "    if start:\n",
    "      traversal += (str(start.value) + \"-\")\n",
    "      traversal = self.preorder_print(start.left, traversal)\n",
    "      traversal = self.preorder_print(start.right, traversal)\n",
    "    return traversal\n",
    "\n",
    "  def inorder_print(self, start, traversal):\n",
    "    \"\"\" left -> root -> right \"\"\"\n",
    "    if start:\n",
    "        traversal = self.inorder_print(start.left,traversal)\n",
    "        traversal += (str(start.value)+\"-\")\n",
    "        traversal = self.inorder_print(start.right, traversal)\n",
    "    return traversal\n",
    "\n",
    "tree = BinaryTree(1)\n",
    "tree.root.left = Node(2)\n",
    "tree.root.right = Node(3)\n",
    "tree.root.left.left = Node(4)\n",
    "tree.root.left.right = Node(5)\n",
    "tree.root.right.left = Node(6)\n",
    "tree.root.right.right = Node(7)\n",
    "print(tree.preorder_print(tree.root, \"\"))\n",
    "\n",
    "\n",
    "#               1\n",
    "#           /       \\  \n",
    "#          2          3  \n",
    "#         /  \\      /   \\\n",
    "#        4    5     6   7 \n",
    "  "
   ]
  },
  {
   "cell_type": "markdown",
   "metadata": {},
   "source": [
    "# Post-order Traversal#\n",
    "At this point, it will be very easy for you to guess the algorithm for post-order traversal. There you go:\n",
    "\n",
    "1. Check if the current node is empty/null.\n",
    "2. Traverse the left subtree by recursively calling the post-order method.\n",
    "3. Traverse the right subtree by recursively calling the post-order method.\n",
    "4. Display the data part of the root (or current node)."
   ]
  },
  {
   "cell_type": "code",
   "execution_count": 21,
   "metadata": {},
   "outputs": [
    {
     "name": "stdout",
     "output_type": "stream",
     "text": [
      "4-5-2-6-7-3-1-\n"
     ]
    }
   ],
   "source": [
    "class BinaryTree(object):\n",
    "  def __init__(self, root):\n",
    "    self.root = Node(root)\n",
    "\n",
    "  def inorder_print(self, start, traversal):\n",
    "    \"\"\" left -> root -> right \"\"\"\n",
    "    if start:\n",
    "        traversal = self.inorder_print(start.left,traversal)\n",
    "        traversal += (str(start.value)+\"-\")\n",
    "        traversal = self.inorder_print(start.right, traversal)\n",
    "    return traversal\n",
    "\n",
    "  def preorder_print(self, start, traversal):\n",
    "    \"\"\"Root->Left->Right\"\"\"\n",
    "    if start:\n",
    "      traversal += (str(start.value) + \"-\")\n",
    "      traversal = self.preorder_print(start.left, traversal)\n",
    "      traversal = self.preorder_print(start.right, traversal)\n",
    "    return traversal\n",
    "  \n",
    "  def postorder_print(self, start, traversal):\n",
    "    \"\"\" left -> right -> root \"\"\"\n",
    "    if start:\n",
    "        traversal = self.postorder_print(start.left,traversal)\n",
    "        traversal = self.postorder_print(start.right, traversal)\n",
    "        traversal += (str(start.value)+\"-\")\n",
    "        \n",
    "    return traversal\n",
    "\n",
    "tree = BinaryTree(1)\n",
    "tree.root.left = Node(2)\n",
    "tree.root.right = Node(3)\n",
    "tree.root.left.left = Node(4)\n",
    "tree.root.left.right = Node(5)\n",
    "tree.root.right.left = Node(6)\n",
    "tree.root.right.right = Node(7)\n",
    "print(tree.postorder_print(tree.root, \"\"))\n",
    "\n",
    "\n",
    "#               1\n",
    "#           /       \\  \n",
    "#          2          3  \n",
    "#         /  \\      /   \\\n",
    "#        4    5     6   7 \n",
    "  "
   ]
  },
  {
   "cell_type": "markdown",
   "metadata": {},
   "source": [
    "# Final Code\n"
   ]
  },
  {
   "cell_type": "code",
   "execution_count": 22,
   "metadata": {},
   "outputs": [
    {
     "name": "stdout",
     "output_type": "stream",
     "text": [
      "4-5-2-6-7-3-1-\n"
     ]
    }
   ],
   "source": [
    "class Node(object):\n",
    "    def __init__(self, value):\n",
    "        self.value = value\n",
    "        self.left = None\n",
    "        self.right = None\n",
    "\n",
    "\n",
    "class BinaryTree(object):\n",
    "    def __init__(self, root):\n",
    "        self.root = Node(root)\n",
    "\n",
    "    def print_tree(self, traversal_type):\n",
    "        if traversal_type == \"preorder\":\n",
    "            return self.preorder_print(tree.root, \"\")\n",
    "        elif traversal_type == \"inorder\":\n",
    "            return self.inorder_print(tree.root, \"\")\n",
    "        elif traversal_type == \"postorder\":\n",
    "            return self.postorder_print(tree.root, \"\")\n",
    "\n",
    "        else:\n",
    "            print(\"Traversal type \" + str(traversal_type) + \" is not supported.\")\n",
    "            return False\n",
    "\n",
    "    def preorder_print(self, start, traversal):\n",
    "        \"\"\"Root->Left->Right\"\"\"\n",
    "        if start:\n",
    "            traversal += (str(start.value) + \"-\")\n",
    "            traversal = self.preorder_print(start.left, traversal)\n",
    "            traversal = self.preorder_print(start.right, traversal)\n",
    "        return traversal\n",
    "\n",
    "    def inorder_print(self, start, traversal):\n",
    "        \"\"\"Left->Root->Right\"\"\"\n",
    "        if start:\n",
    "            traversal = self.inorder_print(start.left, traversal)\n",
    "            traversal += (str(start.value) + \"-\")\n",
    "            traversal = self.inorder_print(start.right, traversal)\n",
    "        return traversal\n",
    "\n",
    "    def postorder_print(self, start, traversal):\n",
    "        \"\"\"Left->Right->Root\"\"\"\n",
    "        if start:\n",
    "            traversal = self.postorder_print(start.left, traversal)\n",
    "            traversal = self.postorder_print(start.right, traversal)\n",
    "            traversal += (str(start.value) + \"-\")\n",
    "        return traversal\n",
    "\n",
    "# 1-2-4-5-3-6-7-\n",
    "# 4-2-5-1-6-3-7\n",
    "# 4-5-2-6-7-3-1\n",
    "#               1\n",
    "#           /       \\  \n",
    "#          2          3  \n",
    "#         /  \\      /   \\\n",
    "#        4    5     6   7 \n",
    "\n",
    "# Set up tree:\n",
    "tree = BinaryTree(1)\n",
    "tree.root.left = Node(2)\n",
    "tree.root.right = Node(3)\n",
    "tree.root.left.left = Node(4)\n",
    "tree.root.left.right = Node(5)\n",
    "tree.root.right.left = Node(6)\n",
    "tree.root.right.right = Node(7)\n",
    "\n",
    "#print(tree.print_tree(\"preorder\"))\n",
    "#print(tree.print_tree(\"inorder\"))\n",
    "print(tree.print_tree(\"postorder\"))"
   ]
  }
 ],
 "metadata": {
  "kernelspec": {
   "display_name": "Python 3.9.12 ('base')",
   "language": "python",
   "name": "python3"
  },
  "language_info": {
   "codemirror_mode": {
    "name": "ipython",
    "version": 3
   },
   "file_extension": ".py",
   "mimetype": "text/x-python",
   "name": "python",
   "nbconvert_exporter": "python",
   "pygments_lexer": "ipython3",
   "version": "3.9.12"
  },
  "orig_nbformat": 4,
  "vscode": {
   "interpreter": {
    "hash": "8f8e49fbe029714dc357999845a2bc8bc7a54de30ad264670d735c94a4ad982f"
   }
  }
 },
 "nbformat": 4,
 "nbformat_minor": 2
}
