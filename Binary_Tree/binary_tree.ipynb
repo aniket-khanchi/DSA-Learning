{
 "cells": [
  {
   "cell_type": "code",
   "execution_count": null,
   "metadata": {},
   "outputs": [],
   "source": [
    "a = 5\n",
    "b = 20\n",
    "c= a+b\n",
    "print(c)"
   ]
  }
 ],
 "metadata": {
  "kernelspec": {
   "display_name": "Python 3.9.12 ('base')",
   "language": "python",
   "name": "python3"
  },
  "language_info": {
   "name": "python",
   "version": "3.9.12"
  },
  "orig_nbformat": 4,
  "vscode": {
   "interpreter": {
    "hash": "8f8e49fbe029714dc357999845a2bc8bc7a54de30ad264670d735c94a4ad982f"
   }
  }
 },
 "nbformat": 4,
 "nbformat_minor": 2
}
